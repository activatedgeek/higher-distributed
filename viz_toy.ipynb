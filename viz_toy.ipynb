{
 "cells": [
  {
   "cell_type": "code",
   "execution_count": null,
   "metadata": {},
   "outputs": [],
   "source": [
    "import seaborn as sns\n",
    "import matplotlib.pyplot as plt\n",
    "import torch\n",
    "import numpy as np\n",
    "\n",
    "sns.set(font_scale=2., style='whitegrid')"
   ]
  },
  {
   "attachments": {},
   "cell_type": "markdown",
   "metadata": {},
   "source": [
    "## Illustrative"
   ]
  },
  {
   "cell_type": "code",
   "execution_count": null,
   "metadata": {},
   "outputs": [],
   "source": [
    "fig, axes = plt.subplots(figsize=(12,5), ncols=2, sharey=True, sharex=True)\n",
    "\n",
    "X = 4. * np.random.randn(100, 2)\n",
    "n = len(X)\n",
    "y = torch.cat([torch.zeros(n // 2), torch.ones(n // 2)]).long().numpy()\n",
    "\n",
    "ax = axes[0]\n",
    "scatter = ax.scatter(X[:, 0], X[:, 1],\n",
    "                    c=y, cmap=sns.color_palette('Set1', as_cmap=True))\n",
    "\n",
    "ax.set(xlabel='x', ylabel='y', title=f'A Bad Dataset')\n",
    "\n",
    "from sklearn.datasets import make_blobs\n",
    "X, y = make_blobs(100, 2, centers=2, random_state=137)\n",
    "n = len(X)\n",
    "\n",
    "ax = axes[1]\n",
    "scatter = ax.scatter(X[:, 0], X[:, 1],\n",
    "                    c=y, cmap=sns.color_palette('Set1', as_cmap=True))\n",
    "\n",
    "ax.set(xlabel='x', title=f'A Good Dataset')\n",
    "\n",
    "legend = ax.legend(*scatter.legend_elements())\n",
    "ax.add_artist(legend)\n",
    "\n",
    "fig.tight_layout()\n",
    "fig.show()\n",
    "\n",
    "# fig.savefig('illustration.pdf', bbox_inches='tight')"
   ]
  },
  {
   "attachments": {},
   "cell_type": "markdown",
   "metadata": {},
   "source": [
    "## Visualize Training"
   ]
  },
  {
   "cell_type": "code",
   "execution_count": null,
   "metadata": {},
   "outputs": [],
   "source": [
    "fig, axes = plt.subplots(figsize=(24,5), ncols=4, sharey=True, sharex=True)\n",
    "\n",
    "for i in range(4):\n",
    "    X = torch.load(f'.log/gpus-{2**i}/files/model.pt', map_location='cpu')['module.X'].numpy()\n",
    "    n = len(X)\n",
    "    y = torch.cat([torch.zeros(n // 2), torch.ones(n // 2)]).long().numpy()\n",
    "\n",
    "    ax = axes[i]\n",
    "    scatter = ax.scatter(X[:, 0], X[:, 1],\n",
    "                        c=y, cmap=sns.color_palette('Set1', as_cmap=True))\n",
    "\n",
    "    ax.set(xlabel='x', title=f'{2**i} GPU{\"s\" if i else \"\"}')\n",
    "    if i == 0:\n",
    "        ax.set(ylabel='y')\n",
    "\n",
    "    if i == 3:\n",
    "        legend = ax.legend(*scatter.legend_elements())\n",
    "        ax.add_artist(legend)\n",
    "\n",
    "fig.tight_layout()\n",
    "fig.show()\n",
    "\n",
    "# fig.savefig('toy_learn.pdf', bbox_inches='tight')"
   ]
  }
 ],
 "metadata": {
  "kernelspec": {
   "display_name": "functa",
   "language": "python",
   "name": "python3"
  },
  "language_info": {
   "codemirror_mode": {
    "name": "ipython",
    "version": 3
   },
   "file_extension": ".py",
   "mimetype": "text/x-python",
   "name": "python",
   "nbconvert_exporter": "python",
   "pygments_lexer": "ipython3",
   "version": "3.10.9"
  },
  "orig_nbformat": 4
 },
 "nbformat": 4,
 "nbformat_minor": 2
}
